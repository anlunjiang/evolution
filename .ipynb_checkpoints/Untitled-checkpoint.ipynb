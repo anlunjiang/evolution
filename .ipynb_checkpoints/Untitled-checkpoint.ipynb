{
 "cells": [
  {
   "cell_type": "markdown",
   "metadata": {},
   "source": [
    "# How life grows exponentially"
   ]
  },
  {
   "cell_type": "code",
   "execution_count": 2,
   "metadata": {},
   "outputs": [],
   "source": [
    "# Removing the spontaneous birth chance - unrealistic for complex organisms"
   ]
  },
  {
   "cell_type": "code",
   "execution_count": 2,
   "metadata": {},
   "outputs": [],
   "source": [
    "import random \n",
    "import matplotlib.pyplot as plt"
   ]
  },
  {
   "cell_type": "code",
   "execution_count": 1,
   "metadata": {},
   "outputs": [],
   "source": [
    "# With each fram (iteration) one blob will be created and each living \n",
    "# blob will have a 10% chance of dying \n",
    "\n",
    "class create_blob(object):\n",
    "    spawn_count = 0\n",
    "    def __init__(self, nm):\n",
    "        self.id = nm\n",
    "        create_blob.spawn_count += 1\n",
    "    def death(self):\n",
    "        create_blob.spawn_count -= 1\n",
    "\n",
    "def cycle_blobs(birth_chance, death_chance, replicate_chance, iterations):\n",
    "    \n",
    "    create_blob.spawn_count = 0\n",
    "    blob_list = []\n",
    "    spawncount_list = []\n",
    "    \n",
    "    for i in range(0, iterations):\n",
    "        if random.random() <= birth_chance:\n",
    "            blob = create_blob(i)\n",
    "            blob_list.append(blob)\n",
    "        \n",
    "        for j in blob_list:\n",
    "            if random.random() <= replicate_chance:\n",
    "                blob = create_blob(len(blob_list) + 1)\n",
    "                blob_list.append(blob)\n",
    "            if random.random() <= death_chance:\n",
    "                j.death()\n",
    "                blob_list.remove(j)\n",
    "        spawncount_list.append(create_blob.spawn_count)\n",
    "\n",
    "    plt.plot(list(range(1, iterations + 1)), spawncount_list)\n",
    "    avg = sum(spawncount_list) / len(spawncount_list)\n",
    "    print(f'Birth chance: {birth_chance}')\n",
    "    print(f'Replication chance: {replicate_chance}')\n",
    "    print(f'Death chance: {death_chance}')\n",
    "    print(f'Average number of blobs: {avg}')"
   ]
  },
  {
   "cell_type": "code",
   "execution_count": null,
   "metadata": {},
   "outputs": [],
   "source": [
    "# Blobs will move on a square x by x matrix of \n",
    "def init_world():\n",
    "    \"\"\"Initialises the x*x matrix as the world\"\"\"\n",
    "    \n",
    "def init_blobs():\n",
    "    "
   ]
  }
 ],
 "metadata": {
  "kernelspec": {
   "display_name": "Python 3",
   "language": "python",
   "name": "python3"
  },
  "language_info": {
   "codemirror_mode": {
    "name": "ipython",
    "version": 3
   },
   "file_extension": ".py",
   "mimetype": "text/x-python",
   "name": "python",
   "nbconvert_exporter": "python",
   "pygments_lexer": "ipython3",
   "version": "3.7.3"
  }
 },
 "nbformat": 4,
 "nbformat_minor": 4
}
